{
 "cells": [
  {
   "cell_type": "markdown",
   "metadata": {},
   "source": [
    "#### This imitates a daily report on potentially dangerous earthquakes. This reports averages last 10 days of magnitude value and indicates places where average last 10 days magnitude is above 4."
   ]
  },
  {
   "cell_type": "code",
   "execution_count": 289,
   "metadata": {},
   "outputs": [],
   "source": [
    "%matplotlib inline\n",
    "import matplotlib.pyplot as plt\n",
    "\n",
    "import numpy as np\n",
    "import pandas as pd\n",
    "import math\n",
    "from datetime import datetime as dt\n",
    "from IPython.display import Image, HTML\n",
    "\n",
    "\n",
    "\n",
    "from arcgis.gis import GIS\n",
    "from arcgis.features import SpatialDataFrame\n",
    "from arcgis.features.analysis import interpolate_points"
   ]
  },
  {
   "cell_type": "code",
   "execution_count": 290,
   "metadata": {},
   "outputs": [
    {
     "data": {
      "text/plain": [
       "[]"
      ]
     },
     "execution_count": 290,
     "metadata": {},
     "output_type": "execute_result"
    }
   ],
   "source": [
    "\n",
    "gis = GIS()\n",
    "england_border = gis.content.search('england1 owner:api_data_owner', 'feature layer')\n",
    "england_border"
   ]
  },
  {
   "cell_type": "code",
   "execution_count": 291,
   "metadata": {},
   "outputs": [
    {
     "data": {
      "text/html": [
       "<div class=\"item_container\" style=\"height: auto; overflow: hidden; border: 1px solid #cfcfcf; border-radius: 2px; background: #f6fafa; line-height: 1.21429em; padding: 10px;\">\n",
       "                    <div class=\"item_left\" style=\"width: 210px; float: left;\">\n",
       "                       <a href='https://www.arcgis.com/home/item.html?id=9279b425e97940f58caeabc958d2a510' target='_blank'>\n",
       "                        <img src='https://www.arcgis.com/sharing/rest//content/items/9279b425e97940f58caeabc958d2a510/info/thumbnail/ago_downloaded.png' class=\"itemThumbnail\">\n",
       "                       </a>\n",
       "                    </div>\n",
       "\n",
       "                    <div class=\"item_right\"     style=\"float: none; width: auto; overflow: hidden;\">\n",
       "                        <a href='https://www.arcgis.com/home/item.html?id=9279b425e97940f58caeabc958d2a510' target='_blank'><b>Find_Earthquakes_in_Canada_2010_2019___Earthquakes_2010_2020</b>\n",
       "                        </a>\n",
       "                        <br/>Feature layer generated from Find Existing Locations<img src='https://www.arcgis.com/home/js/jsapi/esri/css/images/item_type_icons/featureshosted16.png' style=\"vertical-align:middle;\">Feature Layer Collection by wang1262_utoronto\n",
       "                        <br/>Last Modified: November 17, 2020\n",
       "                        <br/>0 comments, 61 views\n",
       "                    </div>\n",
       "                </div>\n",
       "                "
      ],
      "text/plain": [
       "<Item title:\"Find_Earthquakes_in_Canada_2010_2019___Earthquakes_2010_2020\" type:Feature Layer Collection owner:wang1262_utoronto>"
      ]
     },
     "execution_count": 291,
     "metadata": {},
     "output_type": "execute_result"
    }
   ],
   "source": [
    "\n",
    "import arcgis\n",
    "from arcgis.gis import GIS\n",
    "\n",
    "ago_gis = GIS() # Connect to ArcGIS Online as an anonymous user\n",
    "search_subset = ago_gis.content.search(\"Earthquakes in Canada 2010-2019\", item_type = \"Feature Layer\")\n",
    "subset_item = search_subset[0]\n",
    "subset_item"
   ]
  },
  {
   "cell_type": "code",
   "execution_count": 292,
   "metadata": {},
   "outputs": [
    {
     "data": {
      "application/vnd.jupyter.widget-view+json": {
       "model_id": "ac2504fb2de74038b14909f403842956",
       "version_major": 2,
       "version_minor": 0
      },
      "text/plain": [
       "MapView(layout=Layout(height='400px', width='100%'))"
      ]
     },
     "metadata": {},
     "output_type": "display_data"
    },
    {
     "data": {
      "text/html": [
       "<div class=\"map-static-img-preview-ee8f541a-a188-4778-b252-d95d7564a9a0\"><img src=\"\"></img></div>"
      ],
      "text/plain": [
       "<IPython.core.display.HTML object>"
      ]
     },
     "metadata": {},
     "output_type": "display_data"
    },
    {
     "data": {
      "text/html": [
       "<div class=\"map-html-embed-preview-ee8f541a-a188-4778-b252-d95d7564a9a0\"></div>"
      ],
      "text/plain": [
       "<IPython.core.display.HTML object>"
      ]
     },
     "metadata": {},
     "output_type": "display_data"
    }
   ],
   "source": [
    "canada_map = gis.map('Canada')\n",
    "canada_map.add_layer(subset_item)\n",
    "canada_map"
   ]
  },
  {
   "cell_type": "code",
   "execution_count": null,
   "metadata": {},
   "outputs": [],
   "source": []
  },
  {
   "cell_type": "code",
   "execution_count": 293,
   "metadata": {},
   "outputs": [
    {
     "name": "stdout",
     "output_type": "stream",
     "text": [
      "2018-05-07 13:30:57.796555\n"
     ]
    },
    {
     "data": {
      "text/html": [
       "<div>\n",
       "<style scoped>\n",
       "    .dataframe tbody tr th:only-of-type {\n",
       "        vertical-align: middle;\n",
       "    }\n",
       "\n",
       "    .dataframe tbody tr th {\n",
       "        vertical-align: top;\n",
       "    }\n",
       "\n",
       "    .dataframe thead th {\n",
       "        text-align: right;\n",
       "    }\n",
       "</style>\n",
       "<table border=\"1\" class=\"dataframe\">\n",
       "  <thead>\n",
       "    <tr style=\"text-align: right;\">\n",
       "      <th></th>\n",
       "      <th>OBJECTID</th>\n",
       "      <th>magnitude_codelist</th>\n",
       "      <th>magnitude</th>\n",
       "      <th>magnitude_type</th>\n",
       "      <th>date</th>\n",
       "      <th>place</th>\n",
       "      <th>depth</th>\n",
       "      <th>latitude</th>\n",
       "      <th>longitude</th>\n",
       "      <th>SHAPE</th>\n",
       "    </tr>\n",
       "  </thead>\n",
       "  <tbody>\n",
       "    <tr>\n",
       "      <th>0</th>\n",
       "      <td>1</td>\n",
       "      <td>&lt;2</td>\n",
       "      <td>1.7</td>\n",
       "      <td>ML</td>\n",
       "      <td>2010-01-01T00:16:49+0000</td>\n",
       "      <td>81 km NE  of Seattle</td>\n",
       "      <td>0.000000</td>\n",
       "      <td>48.192001</td>\n",
       "      <td>-121.677002</td>\n",
       "      <td>{\"x\": -1931959.1460000016, \"y\": 321163.0564999...</td>\n",
       "    </tr>\n",
       "    <tr>\n",
       "      <th>1</th>\n",
       "      <td>2</td>\n",
       "      <td>&lt;2</td>\n",
       "      <td>1.6</td>\n",
       "      <td>ML</td>\n",
       "      <td>2010-01-01T04:15:17+0000</td>\n",
       "      <td>83 km W   of Gold R.</td>\n",
       "      <td>11.600000</td>\n",
       "      <td>49.500999</td>\n",
       "      <td>-127.222000</td>\n",
       "      <td>{\"x\": -2231203.6358000003, \"y\": 633188.6411000...</td>\n",
       "    </tr>\n",
       "    <tr>\n",
       "      <th>2</th>\n",
       "      <td>3</td>\n",
       "      <td>&lt;2</td>\n",
       "      <td>1.7</td>\n",
       "      <td>ML</td>\n",
       "      <td>2010-01-01T08:51:55+0000</td>\n",
       "      <td>59 km SE  of Victoria</td>\n",
       "      <td>21.700001</td>\n",
       "      <td>47.980999</td>\n",
       "      <td>-122.935997</td>\n",
       "      <td>{\"x\": -2027295.0557000004, \"y\": 338922.4587999...</td>\n",
       "    </tr>\n",
       "    <tr>\n",
       "      <th>3</th>\n",
       "      <td>4</td>\n",
       "      <td>2</td>\n",
       "      <td>2.3</td>\n",
       "      <td>ML</td>\n",
       "      <td>2010-01-01T12:24:40+0000</td>\n",
       "      <td>139 km SSW of Sandspit</td>\n",
       "      <td>20.000000</td>\n",
       "      <td>52.028000</td>\n",
       "      <td>-132.257004</td>\n",
       "      <td>{\"x\": -2387745.772, \"y\": 1055017.2118999995, \"...</td>\n",
       "    </tr>\n",
       "    <tr>\n",
       "      <th>4</th>\n",
       "      <td>5</td>\n",
       "      <td>2</td>\n",
       "      <td>2.5</td>\n",
       "      <td>ML</td>\n",
       "      <td>2010-01-01T12:49:52+0000</td>\n",
       "      <td>130 km SSE of Sandspit</td>\n",
       "      <td>20.000000</td>\n",
       "      <td>52.125000</td>\n",
       "      <td>-131.266006</td>\n",
       "      <td>{\"x\": -2325637.0227999985, \"y\": 1027226.690499...</td>\n",
       "    </tr>\n",
       "    <tr>\n",
       "      <th>...</th>\n",
       "      <td>...</td>\n",
       "      <td>...</td>\n",
       "      <td>...</td>\n",
       "      <td>...</td>\n",
       "      <td>...</td>\n",
       "      <td>...</td>\n",
       "      <td>...</td>\n",
       "      <td>...</td>\n",
       "      <td>...</td>\n",
       "      <td>...</td>\n",
       "    </tr>\n",
       "    <tr>\n",
       "      <th>22406</th>\n",
       "      <td>22407</td>\n",
       "      <td>2</td>\n",
       "      <td>2.0</td>\n",
       "      <td>ML</td>\n",
       "      <td>2019-12-30T21:00:26+0000</td>\n",
       "      <td>30 km SE of Ashcroft, BC</td>\n",
       "      <td>0.000000</td>\n",
       "      <td>50.485001</td>\n",
       "      <td>-121.069000</td>\n",
       "      <td>{\"x\": -1788910.4444000013, \"y\": 536527.3531999...</td>\n",
       "    </tr>\n",
       "    <tr>\n",
       "      <th>22407</th>\n",
       "      <td>22408</td>\n",
       "      <td>3</td>\n",
       "      <td>3.4</td>\n",
       "      <td>Mw</td>\n",
       "      <td>2019-12-31T12:22:46+0000</td>\n",
       "      <td>217 km W of Port Hardy, BC</td>\n",
       "      <td>10.000000</td>\n",
       "      <td>50.912998</td>\n",
       "      <td>-130.570999</td>\n",
       "      <td>{\"x\": -2356714.0801, \"y\": 888723.8988000005, \"...</td>\n",
       "    </tr>\n",
       "    <tr>\n",
       "      <th>22408</th>\n",
       "      <td>22409</td>\n",
       "      <td>2</td>\n",
       "      <td>2.2</td>\n",
       "      <td>ML</td>\n",
       "      <td>2019-12-31T17:13:50+0000</td>\n",
       "      <td>24 km E of Sidney, BC</td>\n",
       "      <td>13.800000</td>\n",
       "      <td>48.588001</td>\n",
       "      <td>-123.097000</td>\n",
       "      <td>{\"x\": -2009285.4041000009, \"y\": 405287.8839999...</td>\n",
       "    </tr>\n",
       "    <tr>\n",
       "      <th>22409</th>\n",
       "      <td>22410</td>\n",
       "      <td>&lt;2</td>\n",
       "      <td>1.8</td>\n",
       "      <td>ML</td>\n",
       "      <td>2019-12-31T18:37:24+0000</td>\n",
       "      <td>31 km SE of Ashcroft, BC</td>\n",
       "      <td>14.000000</td>\n",
       "      <td>50.487999</td>\n",
       "      <td>-121.035004</td>\n",
       "      <td>{\"x\": -1786629.1176999994, \"y\": 535862.5709999...</td>\n",
       "    </tr>\n",
       "    <tr>\n",
       "      <th>22410</th>\n",
       "      <td>22411</td>\n",
       "      <td>2</td>\n",
       "      <td>2.0</td>\n",
       "      <td>ML</td>\n",
       "      <td>2019-12-31T23:11:07+0000</td>\n",
       "      <td>29 km SE of Ashcroft, BC</td>\n",
       "      <td>10.500000</td>\n",
       "      <td>50.526001</td>\n",
       "      <td>-121.005997</td>\n",
       "      <td>{\"x\": -1783043.0654999986, \"y\": 538937.6651999...</td>\n",
       "    </tr>\n",
       "  </tbody>\n",
       "</table>\n",
       "<p>22411 rows × 10 columns</p>\n",
       "</div>"
      ],
      "text/plain": [
       "       OBJECTID magnitude_codelist  magnitude magnitude_type  \\\n",
       "0             1                 <2        1.7             ML   \n",
       "1             2                 <2        1.6             ML   \n",
       "2             3                 <2        1.7             ML   \n",
       "3             4                  2        2.3             ML   \n",
       "4             5                  2        2.5             ML   \n",
       "...         ...                ...        ...            ...   \n",
       "22406     22407                  2        2.0             ML   \n",
       "22407     22408                  3        3.4             Mw   \n",
       "22408     22409                  2        2.2             ML   \n",
       "22409     22410                 <2        1.8             ML   \n",
       "22410     22411                  2        2.0             ML   \n",
       "\n",
       "                           date                       place      depth  \\\n",
       "0      2010-01-01T00:16:49+0000        81 km NE  of Seattle   0.000000   \n",
       "1      2010-01-01T04:15:17+0000        83 km W   of Gold R.  11.600000   \n",
       "2      2010-01-01T08:51:55+0000       59 km SE  of Victoria  21.700001   \n",
       "3      2010-01-01T12:24:40+0000      139 km SSW of Sandspit  20.000000   \n",
       "4      2010-01-01T12:49:52+0000      130 km SSE of Sandspit  20.000000   \n",
       "...                         ...                         ...        ...   \n",
       "22406  2019-12-30T21:00:26+0000    30 km SE of Ashcroft, BC   0.000000   \n",
       "22407  2019-12-31T12:22:46+0000  217 km W of Port Hardy, BC  10.000000   \n",
       "22408  2019-12-31T17:13:50+0000       24 km E of Sidney, BC  13.800000   \n",
       "22409  2019-12-31T18:37:24+0000    31 km SE of Ashcroft, BC  14.000000   \n",
       "22410  2019-12-31T23:11:07+0000    29 km SE of Ashcroft, BC  10.500000   \n",
       "\n",
       "        latitude   longitude  \\\n",
       "0      48.192001 -121.677002   \n",
       "1      49.500999 -127.222000   \n",
       "2      47.980999 -122.935997   \n",
       "3      52.028000 -132.257004   \n",
       "4      52.125000 -131.266006   \n",
       "...          ...         ...   \n",
       "22406  50.485001 -121.069000   \n",
       "22407  50.912998 -130.570999   \n",
       "22408  48.588001 -123.097000   \n",
       "22409  50.487999 -121.035004   \n",
       "22410  50.526001 -121.005997   \n",
       "\n",
       "                                                   SHAPE  \n",
       "0      {\"x\": -1931959.1460000016, \"y\": 321163.0564999...  \n",
       "1      {\"x\": -2231203.6358000003, \"y\": 633188.6411000...  \n",
       "2      {\"x\": -2027295.0557000004, \"y\": 338922.4587999...  \n",
       "3      {\"x\": -2387745.772, \"y\": 1055017.2118999995, \"...  \n",
       "4      {\"x\": -2325637.0227999985, \"y\": 1027226.690499...  \n",
       "...                                                  ...  \n",
       "22406  {\"x\": -1788910.4444000013, \"y\": 536527.3531999...  \n",
       "22407  {\"x\": -2356714.0801, \"y\": 888723.8988000005, \"...  \n",
       "22408  {\"x\": -2009285.4041000009, \"y\": 405287.8839999...  \n",
       "22409  {\"x\": -1786629.1176999994, \"y\": 535862.5709999...  \n",
       "22410  {\"x\": -1783043.0654999986, \"y\": 538937.6651999...  \n",
       "\n",
       "[22411 rows x 10 columns]"
      ]
     },
     "execution_count": 293,
     "metadata": {},
     "output_type": "execute_result"
    }
   ],
   "source": [
    "from dateutil.relativedelta import relativedelta\n",
    "import datetime\n",
    "\n",
    "subset_feature_layer = subset_item.layers[0]\n",
    "\n",
    "query_result = subset_feature_layer.query()\n",
    "\n",
    "\n",
    "att_data_frame = query_result.sdf # get as a Pandas dataframe\n",
    "att_data_frame"
   ]
  },
  {
   "cell_type": "code",
   "execution_count": null,
   "metadata": {},
   "outputs": [],
   "source": []
  },
  {
   "cell_type": "code",
   "execution_count": 294,
   "metadata": {},
   "outputs": [],
   "source": [
    "att_data_frame['running_avg'] = att_data_frame.sort_values(by=['date'], ascending=True)\\\n",
    "                       .groupby(['place'])['magnitude']\\\n",
    "                       .rolling(10, min_periods = 1).mean()\\\n",
    "                       .reset_index(drop=True, level=0)"
   ]
  },
  {
   "cell_type": "code",
   "execution_count": null,
   "metadata": {},
   "outputs": [],
   "source": []
  },
  {
   "cell_type": "code",
   "execution_count": 295,
   "metadata": {},
   "outputs": [
    {
     "data": {
      "text/html": [
       "<div>\n",
       "<style scoped>\n",
       "    .dataframe tbody tr th:only-of-type {\n",
       "        vertical-align: middle;\n",
       "    }\n",
       "\n",
       "    .dataframe tbody tr th {\n",
       "        vertical-align: top;\n",
       "    }\n",
       "\n",
       "    .dataframe thead th {\n",
       "        text-align: right;\n",
       "    }\n",
       "</style>\n",
       "<table border=\"1\" class=\"dataframe\">\n",
       "  <thead>\n",
       "    <tr style=\"text-align: right;\">\n",
       "      <th></th>\n",
       "      <th>OBJECTID</th>\n",
       "      <th>magnitude_codelist</th>\n",
       "      <th>magnitude</th>\n",
       "      <th>magnitude_type</th>\n",
       "      <th>date</th>\n",
       "      <th>place</th>\n",
       "      <th>depth</th>\n",
       "      <th>latitude</th>\n",
       "      <th>longitude</th>\n",
       "      <th>SHAPE</th>\n",
       "      <th>running_avg</th>\n",
       "    </tr>\n",
       "  </thead>\n",
       "  <tbody>\n",
       "  </tbody>\n",
       "</table>\n",
       "</div>"
      ],
      "text/plain": [
       "Empty DataFrame\n",
       "Columns: [OBJECTID, magnitude_codelist, magnitude, magnitude_type, date, place, depth, latitude, longitude, SHAPE, running_avg]\n",
       "Index: []"
      ]
     },
     "execution_count": 295,
     "metadata": {},
     "output_type": "execute_result"
    }
   ],
   "source": [
    "mx =att_data_frame['date'].max()\n",
    "rslt_df = att_data_frame.loc[(att_data_frame['date'] == mx)&(att_data_frame['running_avg'] > 4)]\n",
    "rslt_df"
   ]
  },
  {
   "cell_type": "code",
   "execution_count": null,
   "metadata": {},
   "outputs": [],
   "source": []
  },
  {
   "cell_type": "code",
   "execution_count": null,
   "metadata": {},
   "outputs": [],
   "source": []
  },
  {
   "cell_type": "code",
   "execution_count": null,
   "metadata": {},
   "outputs": [],
   "source": []
  },
  {
   "cell_type": "code",
   "execution_count": null,
   "metadata": {},
   "outputs": [],
   "source": []
  },
  {
   "cell_type": "code",
   "execution_count": null,
   "metadata": {},
   "outputs": [],
   "source": []
  },
  {
   "cell_type": "code",
   "execution_count": null,
   "metadata": {},
   "outputs": [],
   "source": []
  }
 ],
 "metadata": {
  "kernelspec": {
   "display_name": "Python 3",
   "language": "python",
   "name": "python3"
  },
  "language_info": {
   "codemirror_mode": {
    "name": "ipython",
    "version": 3
   },
   "file_extension": ".py",
   "mimetype": "text/x-python",
   "name": "python",
   "nbconvert_exporter": "python",
   "pygments_lexer": "ipython3",
   "version": "3.8.5"
  }
 },
 "nbformat": 4,
 "nbformat_minor": 4
}
