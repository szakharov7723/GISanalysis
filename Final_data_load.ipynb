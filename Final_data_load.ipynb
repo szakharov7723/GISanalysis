{
 "cells": [
  {
   "cell_type": "code",
   "execution_count": 208,
   "id": "separate-masters",
   "metadata": {},
   "outputs": [],
   "source": [
    "import requests\n",
    "\n",
    "link = 'https://storage.googleapis.com/take-home-exercise/flowlogs.json'\n",
    "req = requests.get(link)\n",
    "reqpure = req\n",
    "req = req.text\n"
   ]
  },
  {
   "cell_type": "code",
   "execution_count": 209,
   "id": "adjusted-facility",
   "metadata": {},
   "outputs": [],
   "source": [
    "import pandas as  pd\n",
    "import json\n",
    "\n",
    "parser = json.JSONDecoder()\n",
    "parsed = []  # a list to hold individually parsed JSON structures\n",
    "\n",
    "f= req\n",
    "\n",
    "data = f\n",
    "head = 0  # hold the current position as we parse\n",
    "while True:\n",
    "  head = (data.find('{', head) + 1 or data.find('[', head) + 1) - 1\n",
    "  try:\n",
    "    struct, head = parser.raw_decode(data, head)\n",
    "    parsed.append(struct)\n",
    "  except (ValueError, json.JSONDecodeError):  # no more valid JSON structures\n",
    "    break\n",
    "\n",
    "#print(json.dumps(parsed, indent=2))  # make sure it all went wellclear"
   ]
  },
  {
   "cell_type": "code",
   "execution_count": 210,
   "id": "decreased-serial",
   "metadata": {},
   "outputs": [],
   "source": [
    "dd = (json.dumps(parsed, indent=2))\n",
    "dd = json.loads(dd)"
   ]
  },
  {
   "cell_type": "code",
   "execution_count": 224,
   "id": "settled-bridges",
   "metadata": {},
   "outputs": [],
   "source": [
    "import pyodbc\n",
    "conn = pyodbc.connect('DRIVER={SQL Server};SERVER={DESKTOP-9EG5BEF\\DQS_FAILED};DATABASE={Network_data}')\n",
    "cursor = conn.cursor()\n",
    "\n",
    "for i in dd:\n",
    "    cursor.execute(\"Insert Into dbo.Flow_log_data (end_time, start_time,source_ip,source_namespace, source_name_aggr,  source_type, source_port, dest_ip, dest_namespace, dest_service_namespace, dest_name_aggr, dest_service_name, dest_service_port, dest_port, dest_type, proto, action, bytes_in, bytes_out, packets_in, packets_out, http_requests_allowed_in,http_requests_denied_in, tcp_mean_mss,tcp_total_retransmissions, tcp_lost_packets, host, timestamp, _id, _index, _score) values (?,?,?,?,?,?,?,?,?,?,?,?,?,?,?,?,?,?,?,?,?,?,?,?,?,?,?,?,?,?,?)\", \n",
    "    i['_source']['end_time'],\n",
    "    i['_source']['start_time'],\n",
    "    i['_source']['source_ip'],\n",
    "    i['_source']['source_namespace'],\n",
    "    i['_source']['source_name_aggr'],\n",
    "    i['_source'][\"source_type\"],\n",
    "    i['_source'][\"source_port\"],\n",
    "    i['_source'][\"dest_ip\"],\n",
    "    i['_source'][\"dest_namespace\"],\n",
    "    i['_source'][\"dest_service_namespace\"],\n",
    "    i['_source'][\"dest_name_aggr\"],\n",
    "    i['_source'][\"dest_service_name\"],\n",
    "    i['_source'][\"dest_service_port\"],\n",
    "    i['_source'][\"dest_port\"],\n",
    "    i['_source'][\"dest_type\"],\n",
    "    i['_source'][\"proto\"],\n",
    "    i['_source'][\"action\"],\n",
    "    i['_source'][\"bytes_in\"],\n",
    "    i['_source'][\"bytes_out\"],\n",
    "    i['_source'][\"packets_in\"],\n",
    "    i['_source'][\"packets_out\"],\n",
    "    i['_source'][\"http_requests_allowed_in\"],\n",
    "    i['_source'][\"http_requests_denied_in\"],\n",
    "    i['_source'][\"tcp_mean_mss\"],\n",
    "    i['_source'][\"tcp_total_retransmissions\"],\n",
    "    i['_source'][\"tcp_lost_packets\"],\n",
    "    i['_source'][\"host\"],\n",
    "    i['_source'][\"@timestamp\"]/1000,\n",
    "    i['_id'],             \n",
    "    i['_index'],\n",
    "    i['_score'])\n",
    "    cursor.commit()\n",
    "\n",
    "conn.commit()\n",
    "cursor.close()"
   ]
  },
  {
   "cell_type": "code",
   "execution_count": null,
   "id": "bibliographic-wilson",
   "metadata": {},
   "outputs": [],
   "source": []
  }
 ],
 "metadata": {
  "kernelspec": {
   "display_name": "Python 3",
   "language": "python",
   "name": "python3"
  },
  "language_info": {
   "codemirror_mode": {
    "name": "ipython",
    "version": 3
   },
   "file_extension": ".py",
   "mimetype": "text/x-python",
   "name": "python",
   "nbconvert_exporter": "python",
   "pygments_lexer": "ipython3",
   "version": "3.8.5"
  }
 },
 "nbformat": 4,
 "nbformat_minor": 5
}
